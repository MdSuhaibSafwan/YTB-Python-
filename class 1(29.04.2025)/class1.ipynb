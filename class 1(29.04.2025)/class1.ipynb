{
 "cells": [
  {
   "cell_type": "code",
   "execution_count": 1,
   "id": "dfde3912-3763-4a40-b41b-199fbb1fa8d2",
   "metadata": {},
   "outputs": [
    {
     "name": "stdout",
     "output_type": "stream",
     "text": [
      "5\n"
     ]
    }
   ],
   "source": [
    "a = 5\n",
    "print(a)"
   ]
  },
  {
   "cell_type": "markdown",
   "id": "710fb694-b176-4792-8410-7ff61f002a28",
   "metadata": {},
   "source": [
    "### Here we gave a variable named as \"a\" and we assign a value to it which is 5 \n",
    "### with that we print out \"a\" which has a value of 5"
   ]
  },
  {
   "cell_type": "markdown",
   "id": "6666e93d-5b84-4feb-96e5-504b3d14ff2c",
   "metadata": {},
   "source": [
    "### Getting type of a string and a number using `type`"
   ]
  },
  {
   "cell_type": "code",
   "execution_count": 6,
   "id": "c540d183-5c9c-4175-9d1b-2cc0432600ad",
   "metadata": {},
   "outputs": [
    {
     "name": "stdout",
     "output_type": "stream",
     "text": [
      "<class 'int'>\n",
      "<class 'str'>\n"
     ]
    }
   ],
   "source": [
    "d = 5\n",
    "print(type(d))  # shows integer\n",
    "\n",
    "e = \"Random\"\n",
    "print(type(e))  # shows string"
   ]
  },
  {
   "cell_type": "code",
   "execution_count": 2,
   "id": "5505cbfb-1d39-4118-8c15-137793be3c5f",
   "metadata": {},
   "outputs": [
    {
     "name": "stdout",
     "output_type": "stream",
     "text": [
      "15\n"
     ]
    }
   ],
   "source": [
    "# adding numbers\n",
    "b = 10\n",
    "c = a + b # adding 2 numbers and storing it to a variable named \"c\"\n",
    "print(c)"
   ]
  },
  {
   "cell_type": "markdown",
   "id": "88f869da-68b3-4585-8f67-48eac9626f93",
   "metadata": {},
   "source": [
    "#### Here a new variable c is created which is the addition of a and b"
   ]
  },
  {
   "cell_type": "markdown",
   "id": "cf5b66e4-3a90-4a0d-9a4c-3df58b13beba",
   "metadata": {},
   "source": [
    "### Concatenation means the addition of strings"
   ]
  },
  {
   "cell_type": "code",
   "execution_count": 3,
   "id": "108206e8-d190-4fa4-b304-aa09ebf2b89c",
   "metadata": {},
   "outputs": [
    {
     "name": "stdout",
     "output_type": "stream",
     "text": [
      "My Name is john My age is 20\n"
     ]
    }
   ],
   "source": [
    "# concatenation\n",
    "var_a = \"My Name is john\"\n",
    "var_b = \"My age is 20\"\n",
    "\n",
    "concatenated_variable = var_a + \" \" + var_b # adding 2 strings\n",
    "print(concatenated_variable)"
   ]
  },
  {
   "cell_type": "markdown",
   "id": "121cc363-1161-4b0b-8cdb-5ea4e4ef7012",
   "metadata": {},
   "source": [
    "### we cannot concatenate a string with an integer"
   ]
  },
  {
   "cell_type": "code",
   "execution_count": 4,
   "id": "5e244414-21d0-44db-a929-5983c3286073",
   "metadata": {},
   "outputs": [
    {
     "ename": "TypeError",
     "evalue": "can only concatenate str (not \"int\") to str",
     "output_type": "error",
     "traceback": [
      "\u001b[31m---------------------------------------------------------------------------\u001b[39m",
      "\u001b[31mTypeError\u001b[39m                                 Traceback (most recent call last)",
      "\u001b[36mCell\u001b[39m\u001b[36m \u001b[39m\u001b[32mIn[4]\u001b[39m\u001b[32m, line 5\u001b[39m\n\u001b[32m      2\u001b[39m var_a = \u001b[33m\"\u001b[39m\u001b[33mJohn\u001b[39m\u001b[33m'\u001b[39m\u001b[33ms age is: \u001b[39m\u001b[33m\"\u001b[39m\n\u001b[32m      3\u001b[39m var_b = \u001b[32m20\u001b[39m\n\u001b[32m----> \u001b[39m\u001b[32m5\u001b[39m concatenated_variable = \u001b[43mvar_a\u001b[49m\u001b[43m \u001b[49m\u001b[43m+\u001b[49m\u001b[43m \u001b[49m\u001b[33;43m\"\u001b[39;49m\u001b[33;43m \u001b[39;49m\u001b[33;43m\"\u001b[39;49m\u001b[43m \u001b[49m\u001b[43m+\u001b[49m\u001b[43m \u001b[49m\u001b[43mvar_b\u001b[49m \u001b[38;5;66;03m# adding 2 strings\u001b[39;00m\n\u001b[32m      6\u001b[39m \u001b[38;5;28mprint\u001b[39m(concatenated_variable)\n",
      "\u001b[31mTypeError\u001b[39m: can only concatenate str (not \"int\") to str"
     ]
    }
   ],
   "source": [
    "# concatenation\n",
    "var_a = \"John's age is: \"\n",
    "var_b = 20\n",
    "\n",
    "concatenated_variable = var_a + \" \" + var_b # we'll get an error if we add a string with a number\n",
    "print(concatenated_variable)"
   ]
  },
  {
   "cell_type": "markdown",
   "id": "a15b41c0-02f6-43cd-a0c0-11fc8ed9ddbb",
   "metadata": {},
   "source": [
    "### Using Input to take `name` and `age` of user"
   ]
  },
  {
   "cell_type": "code",
   "execution_count": 8,
   "id": "0cc95304-302a-485c-963b-c71c7903b339",
   "metadata": {},
   "outputs": [
    {
     "name": "stdin",
     "output_type": "stream",
     "text": [
      "What's your name:  John\n",
      "What's your age:  20\n"
     ]
    },
    {
     "name": "stdout",
     "output_type": "stream",
     "text": [
      "John age is 20\n"
     ]
    }
   ],
   "source": [
    "name = input(\"What's your name: \")\n",
    "age = input(\"What's your age: \")\n",
    "print(name + \" \" + \"age is \" + age)"
   ]
  },
  {
   "cell_type": "markdown",
   "id": "dedaa216-d204-46b4-9e42-b847f6f6e172",
   "metadata": {},
   "source": [
    "### Formatted string make it more easy to write multiple variables in a string"
   ]
  },
  {
   "cell_type": "code",
   "execution_count": 10,
   "id": "1b1ffef6-acea-48e1-a8af-f5a831e002ef",
   "metadata": {},
   "outputs": [
    {
     "name": "stdout",
     "output_type": "stream",
     "text": [
      "John's age is 20\n"
     ]
    }
   ],
   "source": [
    "# Using formatted string \n",
    "print(f\"{name}'s age is {age}\")"
   ]
  },
  {
   "cell_type": "code",
   "execution_count": null,
   "id": "c58b91a4-46bf-44b5-af18-2292f51347a4",
   "metadata": {},
   "outputs": [],
   "source": []
  },
  {
   "cell_type": "markdown",
   "id": "8e72f22a-b3c4-420d-b9a3-f1ef46cc8e2f",
   "metadata": {},
   "source": [
    "# Small Home Work\n",
    "Take an input of a house details and you'll be taking input of `house name`, `city`and `country`\n",
    "Then make a variable named as `house_details` and concatenate it there\n",
    "#### For example: `'Eden Garden is located at Ankara in Turkey'`"
   ]
  },
  {
   "cell_type": "code",
   "execution_count": null,
   "id": "0fd93eb1-e287-444f-a2b2-3861ab109375",
   "metadata": {},
   "outputs": [],
   "source": []
  }
 ],
 "metadata": {
  "kernelspec": {
   "display_name": "Python 3 (ipykernel)",
   "language": "python",
   "name": "python3"
  },
  "language_info": {
   "codemirror_mode": {
    "name": "ipython",
    "version": 3
   },
   "file_extension": ".py",
   "mimetype": "text/x-python",
   "name": "python",
   "nbconvert_exporter": "python",
   "pygments_lexer": "ipython3",
   "version": "3.12.3"
  }
 },
 "nbformat": 4,
 "nbformat_minor": 5
}
